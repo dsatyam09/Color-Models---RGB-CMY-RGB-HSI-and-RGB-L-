{
 "cells": [
  {
   "cell_type": "code",
   "execution_count": 1,
   "id": "dcf71fdf",
   "metadata": {},
   "outputs": [],
   "source": [
    "import numpy as np\n",
    "import cv2\n",
    "import math\n",
    "bgr = cv2.imread(\"parrot.jpg\",1)\n",
    "cv2.imshow('parrot ',bgr)\n",
    "cv2.waitKey(0)\n",
    "cv2.destroyAllWindows()"
   ]
  },
  {
   "cell_type": "code",
   "execution_count": 2,
   "id": "5f20312a",
   "metadata": {},
   "outputs": [
    {
     "data": {
      "text/plain": [
       "(768, 1024, 3)"
      ]
     },
     "execution_count": 2,
     "metadata": {},
     "output_type": "execute_result"
    }
   ],
   "source": [
    "bgr.shape"
   ]
  },
  {
   "cell_type": "markdown",
   "id": "c89cdffd",
   "metadata": {},
   "source": [
    "# Conversion of BGR default to it's constituent colors."
   ]
  },
  {
   "cell_type": "code",
   "execution_count": 3,
   "id": "a33382f6",
   "metadata": {},
   "outputs": [],
   "source": [
    "# cv2.imshow('parrot in rgb',bgr)    --------> not needed at this moment.\n",
    "cv2.waitKey(0)\n",
    "cv2.destroyAllWindows()\n",
    "b, g, r = cv2.split(bgr) "
   ]
  },
  {
   "cell_type": "code",
   "execution_count": 4,
   "id": "334f38fa",
   "metadata": {},
   "outputs": [],
   "source": [
    "# The RGB color models which consistes of 3 tupples are split in 3 components of Red , Green , Blue respectively . "
   ]
  },
  {
   "cell_type": "code",
   "execution_count": 5,
   "id": "0cd47493",
   "metadata": {
    "scrolled": true
   },
   "outputs": [
    {
     "name": "stdout",
     "output_type": "stream",
     "text": [
      "[[ 99 100 102 ...  78  84  87]\n",
      " [101 102 103 ...  77  83  86]\n",
      " [103 104 105 ...  76  81  83]\n",
      " ...\n",
      " [113 112 108 ...  41  41  40]\n",
      " [113 112 109 ...  42  40  39]\n",
      " [114 112 110 ...  42  41  40]]\n"
     ]
    }
   ],
   "source": [
    "red = np.array(r)\n",
    "print(red)"
   ]
  },
  {
   "cell_type": "code",
   "execution_count": 6,
   "id": "1d01e78b",
   "metadata": {},
   "outputs": [
    {
     "data": {
      "text/plain": [
       "(768, 1024)"
      ]
     },
     "execution_count": 6,
     "metadata": {},
     "output_type": "execute_result"
    }
   ],
   "source": [
    "red.shape"
   ]
  },
  {
   "cell_type": "code",
   "execution_count": 7,
   "id": "44ee5e46",
   "metadata": {},
   "outputs": [
    {
     "name": "stdout",
     "output_type": "stream",
     "text": [
      "[[137 138 140 ... 131 137 140]\n",
      " [139 140 141 ... 130 136 139]\n",
      " [141 142 143 ... 129 134 136]\n",
      " ...\n",
      " [135 134 132 ...  75  73  72]\n",
      " [137 136 133 ...  76  74  73]\n",
      " [138 136 134 ...  76  75  74]]\n"
     ]
    }
   ],
   "source": [
    "green = np.array(g)\n",
    "print(green)"
   ]
  },
  {
   "cell_type": "code",
   "execution_count": 8,
   "id": "91a0a31e",
   "metadata": {},
   "outputs": [
    {
     "name": "stdout",
     "output_type": "stream",
     "text": [
      "[[ 98  99 103 ...  77  83  86]\n",
      " [100 101 104 ...  76  82  85]\n",
      " [102 103 104 ...  75  80  82]\n",
      " ...\n",
      " [ 52  51  48 ...  38  36  35]\n",
      " [ 51  50  47 ...  39  37  36]\n",
      " [ 52  50  48 ...  39  38  37]]\n"
     ]
    }
   ],
   "source": [
    "blue = np.array(b)\n",
    "print(blue)"
   ]
  },
  {
   "cell_type": "markdown",
   "id": "cd0bea3b",
   "metadata": {},
   "source": [
    "**Here you can see the seperate channels of the image of r - g - b channels.**"
   ]
  },
  {
   "cell_type": "code",
   "execution_count": 9,
   "id": "72dfad5f",
   "metadata": {},
   "outputs": [],
   "source": [
    "cv2.imshow('color channels red',red)\n",
    "cv2.waitKey(0)\n",
    "cv2.destroyAllWindows()"
   ]
  },
  {
   "cell_type": "code",
   "execution_count": 10,
   "id": "609c3741",
   "metadata": {},
   "outputs": [],
   "source": [
    "cv2.imshow('color channels green',green)\n",
    "cv2.waitKey(0)\n",
    "cv2.destroyAllWindows()"
   ]
  },
  {
   "cell_type": "code",
   "execution_count": 11,
   "id": "923879c9",
   "metadata": {},
   "outputs": [],
   "source": [
    "cv2.imshow('color channels blue',blue)\n",
    "cv2.waitKey(0)\n",
    "cv2.destroyAllWindows()"
   ]
  },
  {
   "cell_type": "markdown",
   "id": "9ea50363",
   "metadata": {},
   "source": [
    "# Conversion of RGB to CMY  form "
   ]
  },
  {
   "cell_type": "markdown",
   "id": "8c4bd33c",
   "metadata": {},
   "source": [
    "**We would be trying it with 2 methods**\n",
    " 1. Using pre-build python function to perform the operations\n",
    " 2. Using formulae to calculate it ."
   ]
  },
  {
   "cell_type": "markdown",
   "id": "240675d6",
   "metadata": {},
   "source": [
    "Since we  know that Relation that  [C M Y] = [1 1 1] - [ R G B]  for each and every individual tupple value so we will be doing the same in the below few lines ."
   ]
  },
  {
   "cell_type": "code",
   "execution_count": 12,
   "id": "2fdfca25",
   "metadata": {},
   "outputs": [
    {
     "name": "stdout",
     "output_type": "stream",
     "text": [
      "[[1. 1. 1. ... 1. 1. 1.]\n",
      " [1. 1. 1. ... 1. 1. 1.]\n",
      " [1. 1. 1. ... 1. 1. 1.]\n",
      " ...\n",
      " [1. 1. 1. ... 1. 1. 1.]\n",
      " [1. 1. 1. ... 1. 1. 1.]\n",
      " [1. 1. 1. ... 1. 1. 1.]]\n"
     ]
    }
   ],
   "source": [
    "# creating a 2d array with all the component to be one 1 .\n",
    "\n",
    "oneO = np.ones([768, 1024])\n",
    "print(oneO)"
   ]
  },
  {
   "cell_type": "code",
   "execution_count": 13,
   "id": "aab022bb",
   "metadata": {},
   "outputs": [
    {
     "name": "stdout",
     "output_type": "stream",
     "text": [
      "\n",
      "[[255. 255. 255. ... 255. 255. 255.]\n",
      " [255. 255. 255. ... 255. 255. 255.]\n",
      " [255. 255. 255. ... 255. 255. 255.]\n",
      " ...\n",
      " [255. 255. 255. ... 255. 255. 255.]\n",
      " [255. 255. 255. ... 255. 255. 255.]\n",
      " [255. 255. 255. ... 255. 255. 255.]]\n"
     ]
    }
   ],
   "source": [
    "oneO=255*oneO\n",
    "print()\n",
    "print(oneO)"
   ]
  },
  {
   "cell_type": "markdown",
   "id": "bbc6a3a4",
   "metadata": {},
   "source": [
    "**cyan**"
   ]
  },
  {
   "cell_type": "code",
   "execution_count": 14,
   "id": "c621816a",
   "metadata": {},
   "outputs": [
    {
     "name": "stdout",
     "output_type": "stream",
     "text": [
      "[[156. 155. 153. ... 177. 171. 168.]\n",
      " [154. 153. 152. ... 178. 172. 169.]\n",
      " [152. 151. 150. ... 179. 174. 172.]\n",
      " ...\n",
      " [142. 143. 147. ... 214. 214. 215.]\n",
      " [142. 143. 146. ... 213. 215. 216.]\n",
      " [141. 143. 145. ... 213. 214. 215.]]\n"
     ]
    }
   ],
   "source": [
    "cyan = oneO-red\n",
    "print(cyan)"
   ]
  },
  {
   "cell_type": "code",
   "execution_count": 15,
   "id": "fb7050f0",
   "metadata": {},
   "outputs": [],
   "source": [
    "cv2.imshow('Conversion to CMY model ',cyan)"
   ]
  },
  {
   "cell_type": "markdown",
   "id": "6b5d0189",
   "metadata": {},
   "source": [
    "**magenta**"
   ]
  },
  {
   "cell_type": "code",
   "execution_count": 16,
   "id": "16328d8f",
   "metadata": {},
   "outputs": [
    {
     "name": "stdout",
     "output_type": "stream",
     "text": [
      "[[118. 117. 115. ... 124. 118. 115.]\n",
      " [116. 115. 114. ... 125. 119. 116.]\n",
      " [114. 113. 112. ... 126. 121. 119.]\n",
      " ...\n",
      " [120. 121. 123. ... 180. 182. 183.]\n",
      " [118. 119. 122. ... 179. 181. 182.]\n",
      " [117. 119. 121. ... 179. 180. 181.]]\n"
     ]
    }
   ],
   "source": [
    "magenta = oneO-green\n",
    "print(magenta)"
   ]
  },
  {
   "cell_type": "code",
   "execution_count": 17,
   "id": "ab2f243f",
   "metadata": {},
   "outputs": [],
   "source": [
    "cv2.imshow('Conversion to CMY model ',magenta)"
   ]
  },
  {
   "cell_type": "markdown",
   "id": "4fbfe368",
   "metadata": {},
   "source": [
    "**Yellow**"
   ]
  },
  {
   "cell_type": "code",
   "execution_count": 18,
   "id": "2e27c8c8",
   "metadata": {},
   "outputs": [
    {
     "name": "stdout",
     "output_type": "stream",
     "text": [
      "[[157. 156. 152. ... 178. 172. 169.]\n",
      " [155. 154. 151. ... 179. 173. 170.]\n",
      " [153. 152. 151. ... 180. 175. 173.]\n",
      " ...\n",
      " [203. 204. 207. ... 217. 219. 220.]\n",
      " [204. 205. 208. ... 216. 218. 219.]\n",
      " [203. 205. 207. ... 216. 217. 218.]]\n"
     ]
    }
   ],
   "source": [
    "yellow = oneO-blue\n",
    "print(yellow)"
   ]
  },
  {
   "cell_type": "markdown",
   "id": "60f71649",
   "metadata": {},
   "source": [
    "**Merging the cmy color channels in one to form a image.** "
   ]
  },
  {
   "cell_type": "code",
   "execution_count": 19,
   "id": "6c1023aa",
   "metadata": {},
   "outputs": [],
   "source": [
    "cmy_img = cv2.merge([cyan,magenta,yellow])"
   ]
  },
  {
   "cell_type": "code",
   "execution_count": 20,
   "id": "8165a754",
   "metadata": {},
   "outputs": [],
   "source": [
    "cv2.imshow('Conversion to CMY model ',cmy_img)\n",
    "cv2.waitKey(0)\n",
    "cv2.destroyAllWindows()"
   ]
  },
  {
   "cell_type": "markdown",
   "id": "1ca9fc61",
   "metadata": {},
   "source": [
    "# Conversion of RGB to HSI"
   ]
  },
  {
   "cell_type": "code",
   "execution_count": 21,
   "id": "c51f1c9c",
   "metadata": {},
   "outputs": [],
   "source": [
    "# lets convert the red, green , blue in normalization form \n",
    "red= red/255"
   ]
  },
  {
   "cell_type": "code",
   "execution_count": 22,
   "id": "81c7b7a3",
   "metadata": {},
   "outputs": [],
   "source": [
    "blue= blue/255"
   ]
  },
  {
   "cell_type": "code",
   "execution_count": 23,
   "id": "e8c4faa1",
   "metadata": {},
   "outputs": [],
   "source": [
    "green = green/255"
   ]
  },
  {
   "cell_type": "markdown",
   "id": "6a6c9727",
   "metadata": {},
   "source": [
    "![](HFormula.png)"
   ]
  },
  {
   "cell_type": "code",
   "execution_count": 24,
   "id": "00313d20",
   "metadata": {},
   "outputs": [
    {
     "name": "stderr",
     "output_type": "stream",
     "text": [
      "C:\\Users\\Satyam Dubey\\AppData\\Local\\Temp\\ipykernel_1876\\4036046993.py:1: RuntimeWarning: divide by zero encountered in true_divide\n",
      "  theeta =   np.arccos((((r-g)+(r-b))/ (2*(np.sqrt(((r-g)*(r-g))+((r-b)*(g-b)))))))\n",
      "C:\\Users\\Satyam Dubey\\AppData\\Local\\Temp\\ipykernel_1876\\4036046993.py:1: RuntimeWarning: invalid value encountered in true_divide\n",
      "  theeta =   np.arccos((((r-g)+(r-b))/ (2*(np.sqrt(((r-g)*(r-g))+((r-b)*(g-b)))))))\n",
      "C:\\Users\\Satyam Dubey\\AppData\\Local\\Temp\\ipykernel_1876\\4036046993.py:1: RuntimeWarning: invalid value encountered in arccos\n",
      "  theeta =   np.arccos((((r-g)+(r-b))/ (2*(np.sqrt(((r-g)*(r-g))+((r-b)*(g-b)))))))\n"
     ]
    }
   ],
   "source": [
    "theeta =   np.arccos((((r-g)+(r-b))/ (2*(np.sqrt(((r-g)*(r-g))+((r-b)*(g-b)))))))"
   ]
  },
  {
   "cell_type": "code",
   "execution_count": 25,
   "id": "72337dad",
   "metadata": {},
   "outputs": [
    {
     "data": {
      "text/plain": [
       "array([[nan, nan, nan, ..., nan, nan, nan],\n",
       "       [nan, nan, nan, ..., nan, nan, nan],\n",
       "       [nan, nan, nan, ..., nan, nan, nan],\n",
       "       ...,\n",
       "       [nan, nan, nan, ..., nan, nan, nan],\n",
       "       [nan, nan, nan, ..., nan, nan, nan],\n",
       "       [nan, nan, nan, ..., nan, nan, nan]], dtype=float16)"
      ]
     },
     "execution_count": 25,
     "metadata": {},
     "output_type": "execute_result"
    }
   ],
   "source": [
    "theeta"
   ]
  },
  {
   "cell_type": "markdown",
   "id": "a41203af",
   "metadata": {},
   "source": [
    "# Saturation "
   ]
  },
  {
   "cell_type": "code",
   "execution_count": 26,
   "id": "b66f0604",
   "metadata": {},
   "outputs": [],
   "source": [
    "# saturation"
   ]
  },
  {
   "cell_type": "markdown",
   "id": "4ad06b83",
   "metadata": {},
   "source": [
    "**----------------------------------------------------------------------------------------------------------------------------**"
   ]
  },
  {
   "cell_type": "markdown",
   "id": "78724e82",
   "metadata": {},
   "source": [
    "**Using Alternate method to convert rgb to hsi. **"
   ]
  },
  {
   "cell_type": "code",
   "execution_count": 27,
   "id": "4e90ba8d",
   "metadata": {},
   "outputs": [],
   "source": [
    "HSI_img = cv2.cvtColor(bgr, cv2.COLOR_BGR2HSV)\n",
    "cv2.imshow('horse hsi to rgb',HSI_img)\n",
    "cv2.waitKey(0)\n",
    "cv2.destroyAllWindows()"
   ]
  },
  {
   "cell_type": "markdown",
   "id": "0c554894",
   "metadata": {},
   "source": [
    "# HSI to RGB Conversion \n",
    "     ** 1st Direct method**\n",
    "     ** 2nd Mushkil Method😥**\n",
    "     "
   ]
  },
  {
   "cell_type": "markdown",
   "id": "0871aedd",
   "metadata": {},
   "source": [
    "![](hsi2rgb.png)"
   ]
  },
  {
   "cell_type": "code",
   "execution_count": 28,
   "id": "704f4cd1",
   "metadata": {},
   "outputs": [],
   "source": [
    "# Direct method \n",
    "rgb_img = cv2.cvtColor(HSI_img, cv2.COLOR_HSV2BGR)\n",
    "cv2.imshow('horse hsi to rgb',rgb_img)\n",
    "cv2.waitKey(0)\n",
    "cv2.destroyAllWindows()"
   ]
  },
  {
   "cell_type": "markdown",
   "id": "278b13bf",
   "metadata": {},
   "source": [
    "**2nd Method...**"
   ]
  },
  {
   "cell_type": "code",
   "execution_count": 29,
   "id": "b0202470",
   "metadata": {},
   "outputs": [],
   "source": [
    "# lets first split the h s i component into it's constituent components."
   ]
  },
  {
   "cell_type": "code",
   "execution_count": 30,
   "id": "847c91a9",
   "metadata": {},
   "outputs": [],
   "source": [
    "h, s, i = cv2.split(HSI_img) "
   ]
  },
  {
   "cell_type": "code",
   "execution_count": 31,
   "id": "0360e5ea",
   "metadata": {},
   "outputs": [],
   "source": [
    "H = np.array(h)\n",
    "S = np.array(s)\n",
    "I = np.array(i)"
   ]
  },
  {
   "cell_type": "code",
   "execution_count": 32,
   "id": "f73ac25b",
   "metadata": {},
   "outputs": [
    {
     "data": {
      "text/plain": [
       "array([[137, 138, 140, ..., 131, 137, 140],\n",
       "       [139, 140, 141, ..., 130, 136, 139],\n",
       "       [141, 142, 143, ..., 129, 134, 136],\n",
       "       ...,\n",
       "       [135, 134, 132, ...,  75,  73,  72],\n",
       "       [137, 136, 133, ...,  76,  74,  73],\n",
       "       [138, 136, 134, ...,  76,  75,  74]], dtype=uint8)"
      ]
     },
     "execution_count": 32,
     "metadata": {},
     "output_type": "execute_result"
    }
   ],
   "source": [
    "I"
   ]
  },
  {
   "cell_type": "code",
   "execution_count": 33,
   "id": "366c4c67",
   "metadata": {},
   "outputs": [
    {
     "name": "stdout",
     "output_type": "stream",
     "text": [
      "\n"
     ]
    }
   ],
   "source": [
    "rows, cols = (768, 1024)\n",
    "bue = [[0 for i in range(cols)] for j in range(rows)]\n",
    "rod = [[0 for i in range(cols)] for j in range(rows)]\n",
    "gron = [[0 for i in range(cols)] for j in range(rows)]\n",
    "RODE = np.array(rod)\n",
    "GRON= np.array(gron)                                                \n",
    "BUE = np.array(bue)\n",
    "print()\n",
    "for i in range(0,768):\n",
    "    for j in range(0,1024):\n",
    "        if H[i][j]>=0 and H[i][j]<120:\n",
    "           BUE[i][j] = (I[i][j])*(255- S[i][j])\n",
    "#            print(i,\" \",j)\n",
    "#            print(RODE.shape)\n",
    "           RODE[i][j] = (I[i][j])*(255+(((S[i][j])* (math.cos(H[i][j]))))/math. cos(60-(H[i][j])))  \n",
    "#            print(\"hello {} {}\",i,j)\n",
    "#         elif H[i][j]<= 120 and H[i][j]<240:\n",
    "#             H[i][j] = H[i][j] - 120\n",
    "#             RODE = (I[i][j])*(255-(S[i][j]))\n",
    "#             GRON = I[i][j] * (255+((S[i][j])*math.cos(H[i][j])))\n",
    "            \n"
   ]
  },
  {
   "cell_type": "code",
   "execution_count": 34,
   "id": "160af040",
   "metadata": {},
   "outputs": [
    {
     "data": {
      "text/plain": [
       "array([[24934, 25254, 26040, ..., 19650, 21098, 21980],\n",
       "       [25437, 25760, 26226, ..., 19370, 20944, 21684],\n",
       "       [25944, 26270, 26455, ..., 19092, 20368, 20944],\n",
       "       ...,\n",
       "       [13230, 12998, 12276, ...,  9675,  9198,  8928],\n",
       "       [13015, 12784, 11970, ...,  9956,  9398,  9198],\n",
       "       [13248, 12784, 12194, ...,  9956,  9675,  9398]])"
      ]
     },
     "execution_count": 34,
     "metadata": {},
     "output_type": "execute_result"
    }
   ],
   "source": [
    "BUE"
   ]
  },
  {
   "cell_type": "code",
   "execution_count": null,
   "id": "405591b9",
   "metadata": {},
   "outputs": [],
   "source": []
  }
 ],
 "metadata": {
  "kernelspec": {
   "display_name": "Python 3 (ipykernel)",
   "language": "python",
   "name": "python3"
  },
  "language_info": {
   "codemirror_mode": {
    "name": "ipython",
    "version": 3
   },
   "file_extension": ".py",
   "mimetype": "text/x-python",
   "name": "python",
   "nbconvert_exporter": "python",
   "pygments_lexer": "ipython3",
   "version": "3.10.4"
  }
 },
 "nbformat": 4,
 "nbformat_minor": 5
}
