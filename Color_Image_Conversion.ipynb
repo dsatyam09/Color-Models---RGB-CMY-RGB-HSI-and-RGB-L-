{
 "cells": [
  {
   "cell_type": "code",
   "execution_count": 18,
   "id": "ea4a9c11",
   "metadata": {},
   "outputs": [],
   "source": [
    "import cv2\n",
    "import matplotlib.pyplot as plt\n",
    "%matplotlib inline\n",
    "img = cv2.imread(\"horse.jpg\",2)\n",
    "cv2.imshow('horse in fied',img)\n",
    "cv2.waitKey(0)\n",
    "cv2.destroyAllWindows()"
   ]
  },
  {
   "cell_type": "code",
   "execution_count": 13,
   "id": "04c790c0",
   "metadata": {},
   "outputs": [
    {
     "data": {
      "text/plain": [
       "(321, 481)"
      ]
     },
     "execution_count": 13,
     "metadata": {},
     "output_type": "execute_result"
    }
   ],
   "source": [
    "img.shape\n"
   ]
  },
  {
   "cell_type": "code",
   "execution_count": 3,
   "id": "3b4b56a1",
   "metadata": {},
   "outputs": [],
   "source": [
    "#plt.imshow(img)"
   ]
  },
  {
   "cell_type": "code",
   "execution_count": 4,
   "id": "93691400",
   "metadata": {},
   "outputs": [],
   "source": [
    "new_img = cv2.cvtColor(img, cv2.COLOR_BGR2RGB)\n",
    "cv2.imshow('horse bgr to rgb',new_img)\n",
    "cv2.waitKey(0)\n",
    "cv2.destroyAllWindows()"
   ]
  },
  {
   "cell_type": "code",
   "execution_count": 5,
   "id": "9fb52587",
   "metadata": {},
   "outputs": [],
   "source": [
    "hsv_img = cv2.cvtColor(new_img, cv2.COLOR_RGB2HSV)\n",
    "cv2.imshow('horse rgb to hsi',hsv_img)\n",
    "cv2.waitKey(0)\n",
    "cv2.destroyAllWindows()"
   ]
  },
  {
   "cell_type": "code",
   "execution_count": 6,
   "id": "3eed2098",
   "metadata": {},
   "outputs": [],
   "source": [
    "rgb_img = cv2.cvtColor(hsv_img, cv2.COLOR_HSV2RGB)\n",
    "cv2.imshow('horse hsi to rgb',rgb_img)\n",
    "cv2.waitKey(0)\n",
    "cv2.destroyAllWindows()"
   ]
  }
 ],
 "metadata": {
  "kernelspec": {
   "display_name": "Python 3 (ipykernel)",
   "language": "python",
   "name": "python3"
  },
  "language_info": {
   "codemirror_mode": {
    "name": "ipython",
    "version": 3
   },
   "file_extension": ".py",
   "mimetype": "text/x-python",
   "name": "python",
   "nbconvert_exporter": "python",
   "pygments_lexer": "ipython3",
   "version": "3.10.4"
  }
 },
 "nbformat": 4,
 "nbformat_minor": 5
}
